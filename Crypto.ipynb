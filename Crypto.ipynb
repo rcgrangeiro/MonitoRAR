{
  "nbformat": 4,
  "nbformat_minor": 0,
  "metadata": {
    "colab": {
      "provenance": [],
      "collapsed_sections": [],
      "include_colab_link": true
    },
    "kernelspec": {
      "name": "python3",
      "display_name": "Python 3"
    },
    "language_info": {
      "name": "python"
    }
  },
  "cells": [
    {
      "cell_type": "markdown",
      "metadata": {
        "id": "view-in-github",
        "colab_type": "text"
      },
      "source": [
        "<a href=\"https://colab.research.google.com/github/rcgrangeiro/MonitoRAR/blob/master/Crypto.ipynb\" target=\"_parent\"><img src=\"https://colab.research.google.com/assets/colab-badge.svg\" alt=\"Open In Colab\"/></a>"
      ]
    },
    {
      "cell_type": "code",
      "metadata": {
        "colab": {
          "base_uri": "https://localhost:8080/"
        },
        "id": "x3yYRATDqp7k",
        "outputId": "121b2534-9a2c-41d6-fdb2-4672952ba79e"
      },
      "source": [
        "!pip install python-binance"
      ],
      "execution_count": null,
      "outputs": [
        {
          "output_type": "stream",
          "text": [
            "Collecting python-binance\n",
            "  Downloading https://files.pythonhosted.org/packages/79/8c/d41c21d4815627b12e6afbaddfe0b87f34a4c5a835af17c535ed680828e8/python_binance-0.7.9-py2.py3-none-any.whl\n",
            "Collecting ujson\n",
            "\u001b[?25l  Downloading https://files.pythonhosted.org/packages/17/4e/50e8e4cf5f00b537095711c2c86ac4d7191aed2b4fffd5a19f06898f6929/ujson-4.0.2-cp37-cp37m-manylinux1_x86_64.whl (179kB)\n",
            "\u001b[K     |████████████████████████████████| 184kB 11.5MB/s \n",
            "\u001b[?25hCollecting dateparser\n",
            "\u001b[?25l  Downloading https://files.pythonhosted.org/packages/78/c4/b5ddc3eeac974d85055d88c1e6b62cc492fc1a93dbe3b66a45a756a7b807/dateparser-1.0.0-py2.py3-none-any.whl (279kB)\n",
            "\u001b[K     |████████████████████████████████| 286kB 41.2MB/s \n",
            "\u001b[?25hRequirement already satisfied: six in /usr/local/lib/python3.7/dist-packages (from python-binance) (1.15.0)\n",
            "Collecting autobahn\n",
            "\u001b[?25l  Downloading https://files.pythonhosted.org/packages/f0/8b/816e29fdcb249c3ce8e7e4c16f0547b0255c5f4c9a6cb88c2c91b7d8b202/autobahn-21.3.1-py2.py3-none-any.whl (495kB)\n",
            "\u001b[K     |████████████████████████████████| 501kB 39.1MB/s \n",
            "\u001b[?25hRequirement already satisfied: requests in /usr/local/lib/python3.7/dist-packages (from python-binance) (2.23.0)\n",
            "Requirement already satisfied: urllib3 in /usr/local/lib/python3.7/dist-packages (from python-binance) (1.24.3)\n",
            "Collecting Twisted\n",
            "\u001b[?25l  Downloading https://files.pythonhosted.org/packages/f2/16/3eb9c66a7bfb5220c7bcbaaac33d359fe8a157b028959cd210983749b2e0/Twisted-21.2.0-py3-none-any.whl (3.1MB)\n",
            "\u001b[K     |████████████████████████████████| 3.1MB 50.2MB/s \n",
            "\u001b[?25hCollecting service-identity\n",
            "  Downloading https://files.pythonhosted.org/packages/e9/7c/2195b890023e098f9618d43ebc337d83c8b38d414326685339eb024db2f6/service_identity-18.1.0-py2.py3-none-any.whl\n",
            "Requirement already satisfied: certifi in /usr/local/lib/python3.7/dist-packages (from python-binance) (2020.12.5)\n",
            "Collecting cryptography\n",
            "\u001b[?25l  Downloading https://files.pythonhosted.org/packages/b2/26/7af637e6a7e87258b963f1731c5982fb31cd507f0d90d91836e446955d02/cryptography-3.4.7-cp36-abi3-manylinux2014_x86_64.whl (3.2MB)\n",
            "\u001b[K     |████████████████████████████████| 3.2MB 31.1MB/s \n",
            "\u001b[?25hCollecting pyOpenSSL\n",
            "\u001b[?25l  Downloading https://files.pythonhosted.org/packages/b2/5e/06351ede29fd4899782ad335c2e02f1f862a887c20a3541f17c3fa1a3525/pyOpenSSL-20.0.1-py2.py3-none-any.whl (54kB)\n",
            "\u001b[K     |████████████████████████████████| 61kB 6.5MB/s \n",
            "\u001b[?25hRequirement already satisfied: python-dateutil in /usr/local/lib/python3.7/dist-packages (from dateparser->python-binance) (2.8.1)\n",
            "Requirement already satisfied: pytz in /usr/local/lib/python3.7/dist-packages (from dateparser->python-binance) (2018.9)\n",
            "Requirement already satisfied: regex!=2019.02.19 in /usr/local/lib/python3.7/dist-packages (from dateparser->python-binance) (2019.12.20)\n",
            "Requirement already satisfied: tzlocal in /usr/local/lib/python3.7/dist-packages (from dateparser->python-binance) (1.5.1)\n",
            "Collecting txaio>=21.2.1\n",
            "  Downloading https://files.pythonhosted.org/packages/55/53/c9b89497ba46395bbf84a8c511550626cc5c507c0b76680df54435553e53/txaio-21.2.1-py2.py3-none-any.whl\n",
            "Collecting hyperlink>=21.0.0\n",
            "\u001b[?25l  Downloading https://files.pythonhosted.org/packages/6e/aa/8caf6a0a3e62863cbb9dab27135660acba46903b703e224f14f447e57934/hyperlink-21.0.0-py2.py3-none-any.whl (74kB)\n",
            "\u001b[K     |████████████████████████████████| 81kB 8.3MB/s \n",
            "\u001b[?25hRequirement already satisfied: chardet<4,>=3.0.2 in /usr/local/lib/python3.7/dist-packages (from requests->python-binance) (3.0.4)\n",
            "Requirement already satisfied: idna<3,>=2.5 in /usr/local/lib/python3.7/dist-packages (from requests->python-binance) (2.10)\n",
            "Collecting zope.interface>=4.4.2\n",
            "\u001b[?25l  Downloading https://files.pythonhosted.org/packages/89/57/8a68360d697cf9159cba5ee35f2d25bdcda33883e8b5a997714a191a0b11/zope.interface-5.3.0-cp37-cp37m-manylinux2010_x86_64.whl (248kB)\n",
            "\u001b[K     |████████████████████████████████| 256kB 37.5MB/s \n",
            "\u001b[?25hRequirement already satisfied: attrs>=19.2.0 in /usr/local/lib/python3.7/dist-packages (from Twisted->python-binance) (20.3.0)\n",
            "Collecting Automat>=0.8.0\n",
            "  Downloading https://files.pythonhosted.org/packages/dd/83/5f6f3c1a562674d65efc320257bdc0873ec53147835aeef7762fe7585273/Automat-20.2.0-py2.py3-none-any.whl\n",
            "Collecting incremental>=16.10.1\n",
            "  Downloading https://files.pythonhosted.org/packages/99/3b/4f80dd10cb716f3a9e22ae88f026d25c47cc3fdf82c2747f3d59c98e4ff1/incremental-21.3.0-py2.py3-none-any.whl\n",
            "Collecting constantly>=15.1\n",
            "  Downloading https://files.pythonhosted.org/packages/b9/65/48c1909d0c0aeae6c10213340ce682db01b48ea900a7d9fce7a7910ff318/constantly-15.1.0-py2.py3-none-any.whl\n",
            "Requirement already satisfied: pyasn1 in /usr/local/lib/python3.7/dist-packages (from service-identity->python-binance) (0.4.8)\n",
            "Requirement already satisfied: pyasn1-modules in /usr/local/lib/python3.7/dist-packages (from service-identity->python-binance) (0.2.8)\n",
            "Requirement already satisfied: cffi>=1.12 in /usr/local/lib/python3.7/dist-packages (from cryptography->python-binance) (1.14.5)\n",
            "Requirement already satisfied: setuptools in /usr/local/lib/python3.7/dist-packages (from zope.interface>=4.4.2->Twisted->python-binance) (54.2.0)\n",
            "Requirement already satisfied: pycparser in /usr/local/lib/python3.7/dist-packages (from cffi>=1.12->cryptography->python-binance) (2.20)\n",
            "Installing collected packages: ujson, dateparser, txaio, cryptography, hyperlink, autobahn, zope.interface, Automat, incremental, constantly, Twisted, service-identity, pyOpenSSL, python-binance\n",
            "Successfully installed Automat-20.2.0 Twisted-21.2.0 autobahn-21.3.1 constantly-15.1.0 cryptography-3.4.7 dateparser-1.0.0 hyperlink-21.0.0 incremental-21.3.0 pyOpenSSL-20.0.1 python-binance-0.7.9 service-identity-18.1.0 txaio-21.2.1 ujson-4.0.2 zope.interface-5.3.0\n"
          ],
          "name": "stdout"
        }
      ]
    },
    {
      "cell_type": "code",
      "metadata": {
        "id": "3S9EN0vnqywE"
      },
      "source": [
        "api_key = 'insira aqui sua chave de api'\n",
        "api_secret ='insira qui sua senha de api'\n"
      ],
      "execution_count": null,
      "outputs": []
    },
    {
      "cell_type": "code",
      "metadata": {
        "id": "qJWzUXIZqtdT"
      },
      "source": [
        "from binance.client import Client\n",
        "import json\n",
        "import pandas as pd\n",
        "client = Client(api_key=api_key, api_secret=api_secret)"
      ],
      "execution_count": null,
      "outputs": []
    },
    {
      "cell_type": "code",
      "metadata": {
        "colab": {
          "base_uri": "https://localhost:8080/",
          "height": 603
        },
        "id": "p9f51krXq2eJ",
        "outputId": "5cc66946-3605-4670-bd2b-feb932ac0b3e"
      },
      "source": [
        "btcbrl = client.get_klines(symbol='BTCBRL', interval=Client.KLINE_INTERVAL_15MINUTE,limit=1000)\n",
        "\n",
        "with open('btc_df.json', 'w') as e:\n",
        "    json.dump(btcbrl, e)\n",
        "\n",
        "for line in btcbrl:\n",
        "    del line[5:]\n",
        "\n",
        "btc_df = pd.DataFrame(btcbrl, columns=['date', 'open', 'high', 'low', 'close'])\n",
        "btc_df.set_index('date', inplace=True)\n",
        "btc_df.index = pd.to_datetime(btc_df.index, unit='ms')\n",
        "print(btc_df.head())\n",
        "\n",
        "btc_df['close'] = pd.to_numeric(btc_df['close'])\n",
        "\n",
        "btc_df"
      ],
      "execution_count": null,
      "outputs": [
        {
          "output_type": "stream",
          "text": [
            "                                open  ...            close\n",
            "date                                  ...                 \n",
            "2021-03-27 14:15:00  315776.00000000  ...  315659.00000000\n",
            "2021-03-27 14:30:00  315194.00000000  ...  316223.00000000\n",
            "2021-03-27 14:45:00  316223.00000000  ...  316500.00000000\n",
            "2021-03-27 15:00:00  316500.00000000  ...  317142.00000000\n",
            "2021-03-27 15:15:00  317174.00000000  ...  317974.00000000\n",
            "\n",
            "[5 rows x 4 columns]\n"
          ],
          "name": "stdout"
        },
        {
          "output_type": "execute_result",
          "data": {
            "text/html": [
              "<div>\n",
              "<style scoped>\n",
              "    .dataframe tbody tr th:only-of-type {\n",
              "        vertical-align: middle;\n",
              "    }\n",
              "\n",
              "    .dataframe tbody tr th {\n",
              "        vertical-align: top;\n",
              "    }\n",
              "\n",
              "    .dataframe thead th {\n",
              "        text-align: right;\n",
              "    }\n",
              "</style>\n",
              "<table border=\"1\" class=\"dataframe\">\n",
              "  <thead>\n",
              "    <tr style=\"text-align: right;\">\n",
              "      <th></th>\n",
              "      <th>open</th>\n",
              "      <th>high</th>\n",
              "      <th>low</th>\n",
              "      <th>close</th>\n",
              "    </tr>\n",
              "    <tr>\n",
              "      <th>date</th>\n",
              "      <th></th>\n",
              "      <th></th>\n",
              "      <th></th>\n",
              "      <th></th>\n",
              "    </tr>\n",
              "  </thead>\n",
              "  <tbody>\n",
              "    <tr>\n",
              "      <th>2021-03-27 14:15:00</th>\n",
              "      <td>315776.00000000</td>\n",
              "      <td>316165.00000000</td>\n",
              "      <td>315005.00000000</td>\n",
              "      <td>315659.0</td>\n",
              "    </tr>\n",
              "    <tr>\n",
              "      <th>2021-03-27 14:30:00</th>\n",
              "      <td>315194.00000000</td>\n",
              "      <td>316864.00000000</td>\n",
              "      <td>315158.00000000</td>\n",
              "      <td>316223.0</td>\n",
              "    </tr>\n",
              "    <tr>\n",
              "      <th>2021-03-27 14:45:00</th>\n",
              "      <td>316223.00000000</td>\n",
              "      <td>316865.00000000</td>\n",
              "      <td>315886.00000000</td>\n",
              "      <td>316500.0</td>\n",
              "    </tr>\n",
              "    <tr>\n",
              "      <th>2021-03-27 15:00:00</th>\n",
              "      <td>316500.00000000</td>\n",
              "      <td>317142.00000000</td>\n",
              "      <td>315901.00000000</td>\n",
              "      <td>317142.0</td>\n",
              "    </tr>\n",
              "    <tr>\n",
              "      <th>2021-03-27 15:15:00</th>\n",
              "      <td>317174.00000000</td>\n",
              "      <td>318455.00000000</td>\n",
              "      <td>317120.00000000</td>\n",
              "      <td>317974.0</td>\n",
              "    </tr>\n",
              "    <tr>\n",
              "      <th>...</th>\n",
              "      <td>...</td>\n",
              "      <td>...</td>\n",
              "      <td>...</td>\n",
              "      <td>...</td>\n",
              "    </tr>\n",
              "    <tr>\n",
              "      <th>2021-04-06 23:00:00</th>\n",
              "      <td>328124.00000000</td>\n",
              "      <td>329238.00000000</td>\n",
              "      <td>327600.00000000</td>\n",
              "      <td>329238.0</td>\n",
              "    </tr>\n",
              "    <tr>\n",
              "      <th>2021-04-06 23:15:00</th>\n",
              "      <td>329240.00000000</td>\n",
              "      <td>329405.00000000</td>\n",
              "      <td>328670.00000000</td>\n",
              "      <td>328836.0</td>\n",
              "    </tr>\n",
              "    <tr>\n",
              "      <th>2021-04-06 23:30:00</th>\n",
              "      <td>328837.00000000</td>\n",
              "      <td>329289.00000000</td>\n",
              "      <td>328102.00000000</td>\n",
              "      <td>328169.0</td>\n",
              "    </tr>\n",
              "    <tr>\n",
              "      <th>2021-04-06 23:45:00</th>\n",
              "      <td>328172.00000000</td>\n",
              "      <td>329099.00000000</td>\n",
              "      <td>328106.00000000</td>\n",
              "      <td>328657.0</td>\n",
              "    </tr>\n",
              "    <tr>\n",
              "      <th>2021-04-07 00:00:00</th>\n",
              "      <td>328655.00000000</td>\n",
              "      <td>329295.00000000</td>\n",
              "      <td>328083.00000000</td>\n",
              "      <td>329126.0</td>\n",
              "    </tr>\n",
              "  </tbody>\n",
              "</table>\n",
              "<p>1000 rows × 4 columns</p>\n",
              "</div>"
            ],
            "text/plain": [
              "                                open  ...     close\n",
              "date                                  ...          \n",
              "2021-03-27 14:15:00  315776.00000000  ...  315659.0\n",
              "2021-03-27 14:30:00  315194.00000000  ...  316223.0\n",
              "2021-03-27 14:45:00  316223.00000000  ...  316500.0\n",
              "2021-03-27 15:00:00  316500.00000000  ...  317142.0\n",
              "2021-03-27 15:15:00  317174.00000000  ...  317974.0\n",
              "...                              ...  ...       ...\n",
              "2021-04-06 23:00:00  328124.00000000  ...  329238.0\n",
              "2021-04-06 23:15:00  329240.00000000  ...  328836.0\n",
              "2021-04-06 23:30:00  328837.00000000  ...  328169.0\n",
              "2021-04-06 23:45:00  328172.00000000  ...  328657.0\n",
              "2021-04-07 00:00:00  328655.00000000  ...  329126.0\n",
              "\n",
              "[1000 rows x 4 columns]"
            ]
          },
          "metadata": {
            "tags": []
          },
          "execution_count": 4
        }
      ]
    },
    {
      "cell_type": "code",
      "metadata": {
        "colab": {
          "base_uri": "https://localhost:8080/",
          "height": 450
        },
        "id": "_Bsxtav0q4Uk",
        "outputId": "86b23bc9-ee4e-492a-8c05-9b329e01b24d"
      },
      "source": [
        "ethbrl = client.get_klines(symbol='ETHBRL', interval=Client.KLINE_INTERVAL_15MINUTE,limit=1000)\n",
        "\n",
        "with open('eth_df.json', 'w') as e:\n",
        "    json.dump(btcbrl, e)\n",
        "\n",
        "for line in ethbrl:\n",
        "    del line[5:]\n",
        "\n",
        "eth_df = pd.DataFrame(ethbrl, columns=['date', 'open', 'high', 'low', 'close'])\n",
        "eth_df.set_index('date', inplace=True)\n",
        "eth_df.index = pd.to_datetime(eth_df.index, unit='ms')\n",
        "\n",
        "\n",
        "eth_df['close'] = pd.to_numeric(eth_df['close'])\n",
        "\n",
        "eth_df"
      ],
      "execution_count": null,
      "outputs": [
        {
          "output_type": "execute_result",
          "data": {
            "text/html": [
              "<div>\n",
              "<style scoped>\n",
              "    .dataframe tbody tr th:only-of-type {\n",
              "        vertical-align: middle;\n",
              "    }\n",
              "\n",
              "    .dataframe tbody tr th {\n",
              "        vertical-align: top;\n",
              "    }\n",
              "\n",
              "    .dataframe thead th {\n",
              "        text-align: right;\n",
              "    }\n",
              "</style>\n",
              "<table border=\"1\" class=\"dataframe\">\n",
              "  <thead>\n",
              "    <tr style=\"text-align: right;\">\n",
              "      <th></th>\n",
              "      <th>open</th>\n",
              "      <th>high</th>\n",
              "      <th>low</th>\n",
              "      <th>close</th>\n",
              "    </tr>\n",
              "    <tr>\n",
              "      <th>date</th>\n",
              "      <th></th>\n",
              "      <th></th>\n",
              "      <th></th>\n",
              "      <th></th>\n",
              "    </tr>\n",
              "  </thead>\n",
              "  <tbody>\n",
              "    <tr>\n",
              "      <th>2021-03-27 15:00:00</th>\n",
              "      <td>9739.65000000</td>\n",
              "      <td>9759.39000000</td>\n",
              "      <td>9731.25000000</td>\n",
              "      <td>9759.39</td>\n",
              "    </tr>\n",
              "    <tr>\n",
              "      <th>2021-03-27 15:15:00</th>\n",
              "      <td>9759.39000000</td>\n",
              "      <td>9780.70000000</td>\n",
              "      <td>9759.39000000</td>\n",
              "      <td>9767.33</td>\n",
              "    </tr>\n",
              "    <tr>\n",
              "      <th>2021-03-27 15:30:00</th>\n",
              "      <td>9760.55000000</td>\n",
              "      <td>9767.34000000</td>\n",
              "      <td>9742.54000000</td>\n",
              "      <td>9742.73</td>\n",
              "    </tr>\n",
              "    <tr>\n",
              "      <th>2021-03-27 15:45:00</th>\n",
              "      <td>9742.73000000</td>\n",
              "      <td>9761.71000000</td>\n",
              "      <td>9737.07000000</td>\n",
              "      <td>9737.07</td>\n",
              "    </tr>\n",
              "    <tr>\n",
              "      <th>2021-03-27 16:00:00</th>\n",
              "      <td>9746.19000000</td>\n",
              "      <td>9816.94000000</td>\n",
              "      <td>9746.19000000</td>\n",
              "      <td>9804.14</td>\n",
              "    </tr>\n",
              "    <tr>\n",
              "      <th>...</th>\n",
              "      <td>...</td>\n",
              "      <td>...</td>\n",
              "      <td>...</td>\n",
              "      <td>...</td>\n",
              "    </tr>\n",
              "    <tr>\n",
              "      <th>2021-04-06 23:45:00</th>\n",
              "      <td>11968.96000000</td>\n",
              "      <td>11994.33000000</td>\n",
              "      <td>11957.36000000</td>\n",
              "      <td>11969.50</td>\n",
              "    </tr>\n",
              "    <tr>\n",
              "      <th>2021-04-07 00:00:00</th>\n",
              "      <td>11969.50000000</td>\n",
              "      <td>12049.99000000</td>\n",
              "      <td>11948.15000000</td>\n",
              "      <td>12030.00</td>\n",
              "    </tr>\n",
              "    <tr>\n",
              "      <th>2021-04-07 00:15:00</th>\n",
              "      <td>12030.79000000</td>\n",
              "      <td>12048.09000000</td>\n",
              "      <td>11969.61000000</td>\n",
              "      <td>12011.41</td>\n",
              "    </tr>\n",
              "    <tr>\n",
              "      <th>2021-04-07 00:30:00</th>\n",
              "      <td>12011.41000000</td>\n",
              "      <td>12014.26000000</td>\n",
              "      <td>11944.67000000</td>\n",
              "      <td>11963.27</td>\n",
              "    </tr>\n",
              "    <tr>\n",
              "      <th>2021-04-07 00:45:00</th>\n",
              "      <td>11943.01000000</td>\n",
              "      <td>11943.01000000</td>\n",
              "      <td>11856.76000000</td>\n",
              "      <td>11887.63</td>\n",
              "    </tr>\n",
              "  </tbody>\n",
              "</table>\n",
              "<p>1000 rows × 4 columns</p>\n",
              "</div>"
            ],
            "text/plain": [
              "                               open            high             low     close\n",
              "date                                                                         \n",
              "2021-03-27 15:00:00   9739.65000000   9759.39000000   9731.25000000   9759.39\n",
              "2021-03-27 15:15:00   9759.39000000   9780.70000000   9759.39000000   9767.33\n",
              "2021-03-27 15:30:00   9760.55000000   9767.34000000   9742.54000000   9742.73\n",
              "2021-03-27 15:45:00   9742.73000000   9761.71000000   9737.07000000   9737.07\n",
              "2021-03-27 16:00:00   9746.19000000   9816.94000000   9746.19000000   9804.14\n",
              "...                             ...             ...             ...       ...\n",
              "2021-04-06 23:45:00  11968.96000000  11994.33000000  11957.36000000  11969.50\n",
              "2021-04-07 00:00:00  11969.50000000  12049.99000000  11948.15000000  12030.00\n",
              "2021-04-07 00:15:00  12030.79000000  12048.09000000  11969.61000000  12011.41\n",
              "2021-04-07 00:30:00  12011.41000000  12014.26000000  11944.67000000  11963.27\n",
              "2021-04-07 00:45:00  11943.01000000  11943.01000000  11856.76000000  11887.63\n",
              "\n",
              "[1000 rows x 4 columns]"
            ]
          },
          "metadata": {
            "tags": []
          },
          "execution_count": 42
        }
      ]
    },
    {
      "cell_type": "markdown",
      "metadata": {
        "id": "HGyVr9SvrsFJ"
      },
      "source": [
        "#1. Ajustando os dados"
      ]
    },
    {
      "cell_type": "code",
      "metadata": {
        "colab": {
          "base_uri": "https://localhost:8080/",
          "height": 450
        },
        "id": "mxcHFOYNrG4a",
        "outputId": "2241d0b5-66ae-4398-8cf4-312f95197ab5"
      },
      "source": [
        "btc_close = pd.DataFrame()\n",
        "btc_close['sinal'] = btc_df['close']\n",
        "btc_close"
      ],
      "execution_count": null,
      "outputs": [
        {
          "output_type": "execute_result",
          "data": {
            "text/html": [
              "<div>\n",
              "<style scoped>\n",
              "    .dataframe tbody tr th:only-of-type {\n",
              "        vertical-align: middle;\n",
              "    }\n",
              "\n",
              "    .dataframe tbody tr th {\n",
              "        vertical-align: top;\n",
              "    }\n",
              "\n",
              "    .dataframe thead th {\n",
              "        text-align: right;\n",
              "    }\n",
              "</style>\n",
              "<table border=\"1\" class=\"dataframe\">\n",
              "  <thead>\n",
              "    <tr style=\"text-align: right;\">\n",
              "      <th></th>\n",
              "      <th>sinal</th>\n",
              "    </tr>\n",
              "    <tr>\n",
              "      <th>date</th>\n",
              "      <th></th>\n",
              "    </tr>\n",
              "  </thead>\n",
              "  <tbody>\n",
              "    <tr>\n",
              "      <th>2021-03-27 14:15:00</th>\n",
              "      <td>315659.0</td>\n",
              "    </tr>\n",
              "    <tr>\n",
              "      <th>2021-03-27 14:30:00</th>\n",
              "      <td>316223.0</td>\n",
              "    </tr>\n",
              "    <tr>\n",
              "      <th>2021-03-27 14:45:00</th>\n",
              "      <td>316500.0</td>\n",
              "    </tr>\n",
              "    <tr>\n",
              "      <th>2021-03-27 15:00:00</th>\n",
              "      <td>317142.0</td>\n",
              "    </tr>\n",
              "    <tr>\n",
              "      <th>2021-03-27 15:15:00</th>\n",
              "      <td>317974.0</td>\n",
              "    </tr>\n",
              "    <tr>\n",
              "      <th>...</th>\n",
              "      <td>...</td>\n",
              "    </tr>\n",
              "    <tr>\n",
              "      <th>2021-04-06 23:00:00</th>\n",
              "      <td>329238.0</td>\n",
              "    </tr>\n",
              "    <tr>\n",
              "      <th>2021-04-06 23:15:00</th>\n",
              "      <td>328836.0</td>\n",
              "    </tr>\n",
              "    <tr>\n",
              "      <th>2021-04-06 23:30:00</th>\n",
              "      <td>328169.0</td>\n",
              "    </tr>\n",
              "    <tr>\n",
              "      <th>2021-04-06 23:45:00</th>\n",
              "      <td>328657.0</td>\n",
              "    </tr>\n",
              "    <tr>\n",
              "      <th>2021-04-07 00:00:00</th>\n",
              "      <td>329126.0</td>\n",
              "    </tr>\n",
              "  </tbody>\n",
              "</table>\n",
              "<p>1000 rows × 1 columns</p>\n",
              "</div>"
            ],
            "text/plain": [
              "                        sinal\n",
              "date                         \n",
              "2021-03-27 14:15:00  315659.0\n",
              "2021-03-27 14:30:00  316223.0\n",
              "2021-03-27 14:45:00  316500.0\n",
              "2021-03-27 15:00:00  317142.0\n",
              "2021-03-27 15:15:00  317974.0\n",
              "...                       ...\n",
              "2021-04-06 23:00:00  329238.0\n",
              "2021-04-06 23:15:00  328836.0\n",
              "2021-04-06 23:30:00  328169.0\n",
              "2021-04-06 23:45:00  328657.0\n",
              "2021-04-07 00:00:00  329126.0\n",
              "\n",
              "[1000 rows x 1 columns]"
            ]
          },
          "metadata": {
            "tags": []
          },
          "execution_count": 7
        }
      ]
    },
    {
      "cell_type": "markdown",
      "metadata": {
        "id": "k8elFP04sIE0"
      },
      "source": [
        "#2. Instalar e importar a BTA Lib\n"
      ]
    },
    {
      "cell_type": "code",
      "metadata": {
        "colab": {
          "base_uri": "https://localhost:8080/"
        },
        "id": "9zfLdgeQrxbE",
        "outputId": "48e46b13-6719-48bc-930c-95cafbeb3f7a"
      },
      "source": [
        "!pip install bta-lib"
      ],
      "execution_count": null,
      "outputs": [
        {
          "output_type": "stream",
          "text": [
            "Collecting bta-lib\n",
            "\u001b[?25l  Downloading https://files.pythonhosted.org/packages/fa/72/7367a8f398f5281538aa14320de927e7838ac4e5dee57ba112ad276f6406/bta_lib-1.0.0-py2.py3-none-any.whl (92kB)\n",
            "\r\u001b[K     |███▌                            | 10kB 15.1MB/s eta 0:00:01\r\u001b[K     |███████                         | 20kB 13.2MB/s eta 0:00:01\r\u001b[K     |██████████▋                     | 30kB 9.3MB/s eta 0:00:01\r\u001b[K     |██████████████▏                 | 40kB 9.2MB/s eta 0:00:01\r\u001b[K     |█████████████████▊              | 51kB 7.9MB/s eta 0:00:01\r\u001b[K     |█████████████████████▎          | 61kB 8.5MB/s eta 0:00:01\r\u001b[K     |████████████████████████▉       | 71kB 7.8MB/s eta 0:00:01\r\u001b[K     |████████████████████████████▍   | 81kB 8.0MB/s eta 0:00:01\r\u001b[K     |████████████████████████████████| 92kB 8.6MB/s eta 0:00:01\r\u001b[K     |████████████████████████████████| 102kB 5.4MB/s \n",
            "\u001b[?25hRequirement already satisfied: pandas in /usr/local/lib/python3.7/dist-packages (from bta-lib) (1.1.5)\n",
            "Requirement already satisfied: python-dateutil>=2.7.3 in /usr/local/lib/python3.7/dist-packages (from pandas->bta-lib) (2.8.1)\n",
            "Requirement already satisfied: numpy>=1.15.4 in /usr/local/lib/python3.7/dist-packages (from pandas->bta-lib) (1.19.5)\n",
            "Requirement already satisfied: pytz>=2017.2 in /usr/local/lib/python3.7/dist-packages (from pandas->bta-lib) (2018.9)\n",
            "Requirement already satisfied: six>=1.5 in /usr/local/lib/python3.7/dist-packages (from python-dateutil>=2.7.3->pandas->bta-lib) (1.15.0)\n",
            "Installing collected packages: bta-lib\n",
            "Successfully installed bta-lib-1.0.0\n"
          ],
          "name": "stdout"
        }
      ]
    },
    {
      "cell_type": "code",
      "metadata": {
        "id": "zq9voNXBsNq6"
      },
      "source": [
        "import btalib as bta"
      ],
      "execution_count": null,
      "outputs": []
    },
    {
      "cell_type": "code",
      "metadata": {
        "id": "YFrcjSSZsRP1"
      },
      "source": [
        "btc_bands = bta.bbands(btc_close.sinal, period=20, devs=2.0).df"
      ],
      "execution_count": null,
      "outputs": []
    },
    {
      "cell_type": "code",
      "metadata": {
        "colab": {
          "base_uri": "https://localhost:8080/",
          "height": 450
        },
        "id": "SlEQ_T_RsbvW",
        "outputId": "5f9a42e8-9d3d-4a5c-892c-3087b39aabcb"
      },
      "source": [
        "btc_bands"
      ],
      "execution_count": null,
      "outputs": [
        {
          "output_type": "execute_result",
          "data": {
            "text/html": [
              "<div>\n",
              "<style scoped>\n",
              "    .dataframe tbody tr th:only-of-type {\n",
              "        vertical-align: middle;\n",
              "    }\n",
              "\n",
              "    .dataframe tbody tr th {\n",
              "        vertical-align: top;\n",
              "    }\n",
              "\n",
              "    .dataframe thead th {\n",
              "        text-align: right;\n",
              "    }\n",
              "</style>\n",
              "<table border=\"1\" class=\"dataframe\">\n",
              "  <thead>\n",
              "    <tr style=\"text-align: right;\">\n",
              "      <th></th>\n",
              "      <th>mid</th>\n",
              "      <th>top</th>\n",
              "      <th>bot</th>\n",
              "    </tr>\n",
              "    <tr>\n",
              "      <th>date</th>\n",
              "      <th></th>\n",
              "      <th></th>\n",
              "      <th></th>\n",
              "    </tr>\n",
              "  </thead>\n",
              "  <tbody>\n",
              "    <tr>\n",
              "      <th>2021-03-27 14:15:00</th>\n",
              "      <td>NaN</td>\n",
              "      <td>NaN</td>\n",
              "      <td>NaN</td>\n",
              "    </tr>\n",
              "    <tr>\n",
              "      <th>2021-03-27 14:30:00</th>\n",
              "      <td>NaN</td>\n",
              "      <td>NaN</td>\n",
              "      <td>NaN</td>\n",
              "    </tr>\n",
              "    <tr>\n",
              "      <th>2021-03-27 14:45:00</th>\n",
              "      <td>NaN</td>\n",
              "      <td>NaN</td>\n",
              "      <td>NaN</td>\n",
              "    </tr>\n",
              "    <tr>\n",
              "      <th>2021-03-27 15:00:00</th>\n",
              "      <td>NaN</td>\n",
              "      <td>NaN</td>\n",
              "      <td>NaN</td>\n",
              "    </tr>\n",
              "    <tr>\n",
              "      <th>2021-03-27 15:15:00</th>\n",
              "      <td>NaN</td>\n",
              "      <td>NaN</td>\n",
              "      <td>NaN</td>\n",
              "    </tr>\n",
              "    <tr>\n",
              "      <th>...</th>\n",
              "      <td>...</td>\n",
              "      <td>...</td>\n",
              "      <td>...</td>\n",
              "    </tr>\n",
              "    <tr>\n",
              "      <th>2021-04-06 23:00:00</th>\n",
              "      <td>328957.85</td>\n",
              "      <td>330837.252807</td>\n",
              "      <td>327078.447193</td>\n",
              "    </tr>\n",
              "    <tr>\n",
              "      <th>2021-04-06 23:15:00</th>\n",
              "      <td>328896.05</td>\n",
              "      <td>330704.801334</td>\n",
              "      <td>327087.298666</td>\n",
              "    </tr>\n",
              "    <tr>\n",
              "      <th>2021-04-06 23:30:00</th>\n",
              "      <td>328804.65</td>\n",
              "      <td>330565.748438</td>\n",
              "      <td>327043.551562</td>\n",
              "    </tr>\n",
              "    <tr>\n",
              "      <th>2021-04-06 23:45:00</th>\n",
              "      <td>328774.10</td>\n",
              "      <td>330523.144299</td>\n",
              "      <td>327025.055701</td>\n",
              "    </tr>\n",
              "    <tr>\n",
              "      <th>2021-04-07 00:00:00</th>\n",
              "      <td>328762.00</td>\n",
              "      <td>330497.740073</td>\n",
              "      <td>327026.259927</td>\n",
              "    </tr>\n",
              "  </tbody>\n",
              "</table>\n",
              "<p>1000 rows × 3 columns</p>\n",
              "</div>"
            ],
            "text/plain": [
              "                           mid            top            bot\n",
              "date                                                        \n",
              "2021-03-27 14:15:00        NaN            NaN            NaN\n",
              "2021-03-27 14:30:00        NaN            NaN            NaN\n",
              "2021-03-27 14:45:00        NaN            NaN            NaN\n",
              "2021-03-27 15:00:00        NaN            NaN            NaN\n",
              "2021-03-27 15:15:00        NaN            NaN            NaN\n",
              "...                        ...            ...            ...\n",
              "2021-04-06 23:00:00  328957.85  330837.252807  327078.447193\n",
              "2021-04-06 23:15:00  328896.05  330704.801334  327087.298666\n",
              "2021-04-06 23:30:00  328804.65  330565.748438  327043.551562\n",
              "2021-04-06 23:45:00  328774.10  330523.144299  327025.055701\n",
              "2021-04-07 00:00:00  328762.00  330497.740073  327026.259927\n",
              "\n",
              "[1000 rows x 3 columns]"
            ]
          },
          "metadata": {
            "tags": []
          },
          "execution_count": 11
        }
      ]
    },
    {
      "cell_type": "code",
      "metadata": {
        "id": "t6xMZDnEscz3"
      },
      "source": [
        "btc_up = pd.DataFrame()\n",
        "btc_down = pd.DataFrame()\n",
        "\n",
        "btc_down['sinal'] = btc_bands['bot']\n",
        "btc_up['sinal'] =btc_bands['top']"
      ],
      "execution_count": null,
      "outputs": []
    },
    {
      "cell_type": "code",
      "metadata": {
        "colab": {
          "base_uri": "https://localhost:8080/",
          "height": 450
        },
        "id": "L-Mo8kz4sxdc",
        "outputId": "da35bcbb-7e92-4cf6-9007-caa08e367704"
      },
      "source": [
        "btc_down['sinal'] = pd.to_numeric(btc_down['sinal'])\n",
        "btc_up['sinal'] = pd.to_numeric(btc_up['sinal'])\n",
        "\n",
        "btc_down.fillna(0)\n",
        "btc_up.fillna(0)"
      ],
      "execution_count": null,
      "outputs": [
        {
          "output_type": "execute_result",
          "data": {
            "text/html": [
              "<div>\n",
              "<style scoped>\n",
              "    .dataframe tbody tr th:only-of-type {\n",
              "        vertical-align: middle;\n",
              "    }\n",
              "\n",
              "    .dataframe tbody tr th {\n",
              "        vertical-align: top;\n",
              "    }\n",
              "\n",
              "    .dataframe thead th {\n",
              "        text-align: right;\n",
              "    }\n",
              "</style>\n",
              "<table border=\"1\" class=\"dataframe\">\n",
              "  <thead>\n",
              "    <tr style=\"text-align: right;\">\n",
              "      <th></th>\n",
              "      <th>sinal</th>\n",
              "    </tr>\n",
              "    <tr>\n",
              "      <th>date</th>\n",
              "      <th></th>\n",
              "    </tr>\n",
              "  </thead>\n",
              "  <tbody>\n",
              "    <tr>\n",
              "      <th>2021-03-27 14:15:00</th>\n",
              "      <td>0.000000</td>\n",
              "    </tr>\n",
              "    <tr>\n",
              "      <th>2021-03-27 14:30:00</th>\n",
              "      <td>0.000000</td>\n",
              "    </tr>\n",
              "    <tr>\n",
              "      <th>2021-03-27 14:45:00</th>\n",
              "      <td>0.000000</td>\n",
              "    </tr>\n",
              "    <tr>\n",
              "      <th>2021-03-27 15:00:00</th>\n",
              "      <td>0.000000</td>\n",
              "    </tr>\n",
              "    <tr>\n",
              "      <th>2021-03-27 15:15:00</th>\n",
              "      <td>0.000000</td>\n",
              "    </tr>\n",
              "    <tr>\n",
              "      <th>...</th>\n",
              "      <td>...</td>\n",
              "    </tr>\n",
              "    <tr>\n",
              "      <th>2021-04-06 23:00:00</th>\n",
              "      <td>330837.252807</td>\n",
              "    </tr>\n",
              "    <tr>\n",
              "      <th>2021-04-06 23:15:00</th>\n",
              "      <td>330704.801334</td>\n",
              "    </tr>\n",
              "    <tr>\n",
              "      <th>2021-04-06 23:30:00</th>\n",
              "      <td>330565.748438</td>\n",
              "    </tr>\n",
              "    <tr>\n",
              "      <th>2021-04-06 23:45:00</th>\n",
              "      <td>330523.144299</td>\n",
              "    </tr>\n",
              "    <tr>\n",
              "      <th>2021-04-07 00:00:00</th>\n",
              "      <td>330497.740073</td>\n",
              "    </tr>\n",
              "  </tbody>\n",
              "</table>\n",
              "<p>1000 rows × 1 columns</p>\n",
              "</div>"
            ],
            "text/plain": [
              "                             sinal\n",
              "date                              \n",
              "2021-03-27 14:15:00       0.000000\n",
              "2021-03-27 14:30:00       0.000000\n",
              "2021-03-27 14:45:00       0.000000\n",
              "2021-03-27 15:00:00       0.000000\n",
              "2021-03-27 15:15:00       0.000000\n",
              "...                            ...\n",
              "2021-04-06 23:00:00  330837.252807\n",
              "2021-04-06 23:15:00  330704.801334\n",
              "2021-04-06 23:30:00  330565.748438\n",
              "2021-04-06 23:45:00  330523.144299\n",
              "2021-04-07 00:00:00  330497.740073\n",
              "\n",
              "[1000 rows x 1 columns]"
            ]
          },
          "metadata": {
            "tags": []
          },
          "execution_count": 15
        }
      ]
    },
    {
      "cell_type": "code",
      "metadata": {
        "colab": {
          "base_uri": "https://localhost:8080/",
          "height": 450
        },
        "id": "1a4HTkINtB7w",
        "outputId": "4851e780-2050-4e52-fbd3-4f1fc71ef9dd"
      },
      "source": [
        "posicao = btc_up.copy()\n",
        "posicao['sinal'] = 0\n",
        "posicao"
      ],
      "execution_count": null,
      "outputs": [
        {
          "output_type": "execute_result",
          "data": {
            "text/html": [
              "<div>\n",
              "<style scoped>\n",
              "    .dataframe tbody tr th:only-of-type {\n",
              "        vertical-align: middle;\n",
              "    }\n",
              "\n",
              "    .dataframe tbody tr th {\n",
              "        vertical-align: top;\n",
              "    }\n",
              "\n",
              "    .dataframe thead th {\n",
              "        text-align: right;\n",
              "    }\n",
              "</style>\n",
              "<table border=\"1\" class=\"dataframe\">\n",
              "  <thead>\n",
              "    <tr style=\"text-align: right;\">\n",
              "      <th></th>\n",
              "      <th>sinal</th>\n",
              "    </tr>\n",
              "    <tr>\n",
              "      <th>date</th>\n",
              "      <th></th>\n",
              "    </tr>\n",
              "  </thead>\n",
              "  <tbody>\n",
              "    <tr>\n",
              "      <th>2021-03-27 14:15:00</th>\n",
              "      <td>0</td>\n",
              "    </tr>\n",
              "    <tr>\n",
              "      <th>2021-03-27 14:30:00</th>\n",
              "      <td>0</td>\n",
              "    </tr>\n",
              "    <tr>\n",
              "      <th>2021-03-27 14:45:00</th>\n",
              "      <td>0</td>\n",
              "    </tr>\n",
              "    <tr>\n",
              "      <th>2021-03-27 15:00:00</th>\n",
              "      <td>0</td>\n",
              "    </tr>\n",
              "    <tr>\n",
              "      <th>2021-03-27 15:15:00</th>\n",
              "      <td>0</td>\n",
              "    </tr>\n",
              "    <tr>\n",
              "      <th>...</th>\n",
              "      <td>...</td>\n",
              "    </tr>\n",
              "    <tr>\n",
              "      <th>2021-04-06 23:00:00</th>\n",
              "      <td>0</td>\n",
              "    </tr>\n",
              "    <tr>\n",
              "      <th>2021-04-06 23:15:00</th>\n",
              "      <td>0</td>\n",
              "    </tr>\n",
              "    <tr>\n",
              "      <th>2021-04-06 23:30:00</th>\n",
              "      <td>0</td>\n",
              "    </tr>\n",
              "    <tr>\n",
              "      <th>2021-04-06 23:45:00</th>\n",
              "      <td>0</td>\n",
              "    </tr>\n",
              "    <tr>\n",
              "      <th>2021-04-07 00:00:00</th>\n",
              "      <td>0</td>\n",
              "    </tr>\n",
              "  </tbody>\n",
              "</table>\n",
              "<p>1000 rows × 1 columns</p>\n",
              "</div>"
            ],
            "text/plain": [
              "                     sinal\n",
              "date                      \n",
              "2021-03-27 14:15:00      0\n",
              "2021-03-27 14:30:00      0\n",
              "2021-03-27 14:45:00      0\n",
              "2021-03-27 15:00:00      0\n",
              "2021-03-27 15:15:00      0\n",
              "...                    ...\n",
              "2021-04-06 23:00:00      0\n",
              "2021-04-06 23:15:00      0\n",
              "2021-04-06 23:30:00      0\n",
              "2021-04-06 23:45:00      0\n",
              "2021-04-07 00:00:00      0\n",
              "\n",
              "[1000 rows x 1 columns]"
            ]
          },
          "metadata": {
            "tags": []
          },
          "execution_count": 16
        }
      ]
    },
    {
      "cell_type": "code",
      "metadata": {
        "colab": {
          "base_uri": "https://localhost:8080/"
        },
        "id": "MjIKOsHjtPTe",
        "outputId": "423eb37a-5b5e-4bd1-a2fe-7cf2f479b2c7"
      },
      "source": [
        "posicao[btc_close > btc_up] = -1.0\n",
        "posicao[btc_close <= btc_down] = 1.0\n",
        "posicao['sinal'].fillna(0)"
      ],
      "execution_count": null,
      "outputs": [
        {
          "output_type": "execute_result",
          "data": {
            "text/plain": [
              "date\n",
              "2021-03-27 14:15:00    0\n",
              "2021-03-27 14:30:00    0\n",
              "2021-03-27 14:45:00    0\n",
              "2021-03-27 15:00:00    0\n",
              "2021-03-27 15:15:00    0\n",
              "                      ..\n",
              "2021-04-06 23:00:00    0\n",
              "2021-04-06 23:15:00    0\n",
              "2021-04-06 23:30:00    0\n",
              "2021-04-06 23:45:00    0\n",
              "2021-04-07 00:00:00    0\n",
              "Name: sinal, Length: 1000, dtype: int64"
            ]
          },
          "metadata": {
            "tags": []
          },
          "execution_count": 17
        }
      ]
    },
    {
      "cell_type": "markdown",
      "metadata": {
        "id": "MKM24HfttgLT"
      },
      "source": [
        "#3. Criar estrutura de backtesting"
      ]
    },
    {
      "cell_type": "code",
      "metadata": {
        "colab": {
          "base_uri": "https://localhost:8080/"
        },
        "id": "jUELAYJ9tdRe",
        "outputId": "9ce3f649-69d1-44f2-dd92-f02842964b07"
      },
      "source": [
        "!pip install bt"
      ],
      "execution_count": null,
      "outputs": [
        {
          "output_type": "stream",
          "text": [
            "Collecting bt\n",
            "\u001b[?25l  Downloading https://files.pythonhosted.org/packages/4a/46/125bc4daae5344d9fc26766cfb8d2e1fa4ae5d01109375952aabee3d1eb8/bt-0.2.8.tar.gz (2.8MB)\n",
            "\u001b[K     |████████████████████████████████| 2.8MB 7.3MB/s \n",
            "\u001b[?25h  Installing build dependencies ... \u001b[?25l\u001b[?25hdone\n",
            "  Getting requirements to build wheel ... \u001b[?25l\u001b[?25hdone\n",
            "    Preparing wheel metadata ... \u001b[?25l\u001b[?25hdone\n",
            "Collecting pyprind>=2.10\n",
            "  Downloading https://files.pythonhosted.org/packages/1e/30/e76fb0c45da8aef49ea8d2a90d4e7a6877b45894c25f12fb961f009a891e/PyPrind-2.11.2-py3-none-any.whl\n",
            "Collecting ffn>=0.3.5\n",
            "  Downloading https://files.pythonhosted.org/packages/81/f1/6dcfadb91e9ca0ddbe81dcfd8d86a60d0c58af92ce686b0da94296787e31/ffn-0.3.5-py3-none-any.whl\n",
            "Requirement already satisfied: future>=0.15 in /usr/local/lib/python3.7/dist-packages (from ffn>=0.3.5->bt) (0.16.0)\n",
            "Requirement already satisfied: scikit-learn>=0.15 in /usr/local/lib/python3.7/dist-packages (from ffn>=0.3.5->bt) (0.22.2.post1)\n",
            "Requirement already satisfied: pandas-datareader>=0.2 in /usr/local/lib/python3.7/dist-packages (from ffn>=0.3.5->bt) (0.9.0)\n",
            "Requirement already satisfied: pandas>=0.19 in /usr/local/lib/python3.7/dist-packages (from ffn>=0.3.5->bt) (1.1.5)\n",
            "Requirement already satisfied: scipy>=0.15 in /usr/local/lib/python3.7/dist-packages (from ffn>=0.3.5->bt) (1.4.1)\n",
            "Requirement already satisfied: decorator>=4 in /usr/local/lib/python3.7/dist-packages (from ffn>=0.3.5->bt) (4.4.2)\n",
            "Requirement already satisfied: tabulate>=0.7.5 in /usr/local/lib/python3.7/dist-packages (from ffn>=0.3.5->bt) (0.8.9)\n",
            "Requirement already satisfied: numpy>=1.5 in /usr/local/lib/python3.7/dist-packages (from ffn>=0.3.5->bt) (1.19.5)\n",
            "Requirement already satisfied: matplotlib>=1 in /usr/local/lib/python3.7/dist-packages (from ffn>=0.3.5->bt) (3.2.2)\n",
            "Requirement already satisfied: joblib>=0.11 in /usr/local/lib/python3.7/dist-packages (from scikit-learn>=0.15->ffn>=0.3.5->bt) (1.0.1)\n",
            "Requirement already satisfied: lxml in /usr/local/lib/python3.7/dist-packages (from pandas-datareader>=0.2->ffn>=0.3.5->bt) (4.2.6)\n",
            "Requirement already satisfied: requests>=2.19.0 in /usr/local/lib/python3.7/dist-packages (from pandas-datareader>=0.2->ffn>=0.3.5->bt) (2.23.0)\n",
            "Requirement already satisfied: pytz>=2017.2 in /usr/local/lib/python3.7/dist-packages (from pandas>=0.19->ffn>=0.3.5->bt) (2018.9)\n",
            "Requirement already satisfied: python-dateutil>=2.7.3 in /usr/local/lib/python3.7/dist-packages (from pandas>=0.19->ffn>=0.3.5->bt) (2.8.1)\n",
            "Requirement already satisfied: pyparsing!=2.0.4,!=2.1.2,!=2.1.6,>=2.0.1 in /usr/local/lib/python3.7/dist-packages (from matplotlib>=1->ffn>=0.3.5->bt) (2.4.7)\n",
            "Requirement already satisfied: kiwisolver>=1.0.1 in /usr/local/lib/python3.7/dist-packages (from matplotlib>=1->ffn>=0.3.5->bt) (1.3.1)\n",
            "Requirement already satisfied: cycler>=0.10 in /usr/local/lib/python3.7/dist-packages (from matplotlib>=1->ffn>=0.3.5->bt) (0.10.0)\n",
            "Requirement already satisfied: certifi>=2017.4.17 in /usr/local/lib/python3.7/dist-packages (from requests>=2.19.0->pandas-datareader>=0.2->ffn>=0.3.5->bt) (2020.12.5)\n",
            "Requirement already satisfied: idna<3,>=2.5 in /usr/local/lib/python3.7/dist-packages (from requests>=2.19.0->pandas-datareader>=0.2->ffn>=0.3.5->bt) (2.10)\n",
            "Requirement already satisfied: chardet<4,>=3.0.2 in /usr/local/lib/python3.7/dist-packages (from requests>=2.19.0->pandas-datareader>=0.2->ffn>=0.3.5->bt) (3.0.4)\n",
            "Requirement already satisfied: urllib3!=1.25.0,!=1.25.1,<1.26,>=1.21.1 in /usr/local/lib/python3.7/dist-packages (from requests>=2.19.0->pandas-datareader>=0.2->ffn>=0.3.5->bt) (1.24.3)\n",
            "Requirement already satisfied: six>=1.5 in /usr/local/lib/python3.7/dist-packages (from python-dateutil>=2.7.3->pandas>=0.19->ffn>=0.3.5->bt) (1.15.0)\n",
            "Building wheels for collected packages: bt\n",
            "  Building wheel for bt (PEP 517) ... \u001b[?25l\u001b[?25hdone\n",
            "  Created wheel for bt: filename=bt-0.2.8-cp37-cp37m-linux_x86_64.whl size=759763 sha256=7ca50061996c68510a7bb80d53ed1ac89b5ccb11cb76c32a28d990ad01e0ff44\n",
            "  Stored in directory: /root/.cache/pip/wheels/d2/a3/b9/3ffad8df5d75eae7b0e3f9a7d68c9a8125c1b82f296a7c94cf\n",
            "Successfully built bt\n",
            "Installing collected packages: pyprind, ffn, bt\n",
            "Successfully installed bt-0.2.8 ffn-0.3.5 pyprind-2.11.2\n"
          ],
          "name": "stdout"
        }
      ]
    },
    {
      "cell_type": "code",
      "metadata": {
        "id": "un6-5GFCtk9W"
      },
      "source": [
        "import bt"
      ],
      "execution_count": null,
      "outputs": []
    },
    {
      "cell_type": "code",
      "metadata": {
        "id": "EepGT0mwt6ou"
      },
      "source": [
        "bbands = bt.Strategy('bbands', [bt.algos.WeighTarget(posicao),\n",
        "                                bt.algos.Rebalance()])"
      ],
      "execution_count": null,
      "outputs": []
    },
    {
      "cell_type": "code",
      "metadata": {
        "id": "rmjtX84XuQI2"
      },
      "source": [
        "bteste = bt.Backtest(bbands, btc_close)"
      ],
      "execution_count": null,
      "outputs": []
    },
    {
      "cell_type": "code",
      "metadata": {
        "id": "XOAYqagGuZLp"
      },
      "source": [
        "resultado = bt.run(bteste)"
      ],
      "execution_count": null,
      "outputs": []
    },
    {
      "cell_type": "code",
      "metadata": {
        "colab": {
          "base_uri": "https://localhost:8080/"
        },
        "id": "z_Bch-C-ucWY",
        "outputId": "a6921433-a4d9-477d-b9c5-a3d979c01572"
      },
      "source": [
        "resultado.display()"
      ],
      "execution_count": null,
      "outputs": [
        {
          "output_type": "stream",
          "text": [
            "Stat                 bbands\n",
            "-------------------  ----------\n",
            "Start                2021-03-26\n",
            "End                  2021-04-07\n",
            "Risk-free rate       0.00%\n",
            "\n",
            "Total Return         2.98%\n",
            "Daily Sharpe         4.51\n",
            "Daily Sortino        7.21\n",
            "CAGR                 144.65%\n",
            "Max Drawdown         -1.48%\n",
            "Calmar Ratio         97.55\n",
            "\n",
            "MTD                  2.51%\n",
            "3m                   -\n",
            "6m                   -\n",
            "YTD                  2.98%\n",
            "1Y                   -\n",
            "3Y (ann.)            -\n",
            "5Y (ann.)            -\n",
            "10Y (ann.)           -\n",
            "Since Incep. (ann.)  144.65%\n",
            "\n",
            "Daily Sharpe         4.51\n",
            "Daily Sortino        7.21\n",
            "Daily Mean (ann.)    62.69%\n",
            "Daily Vol (ann.)     13.90%\n",
            "Daily Skew           -1.06\n",
            "Daily Kurt           0.69\n",
            "Best Day             1.33%\n",
            "Worst Day            -1.48%\n",
            "\n",
            "Monthly Sharpe       -\n",
            "Monthly Sortino      -\n",
            "Monthly Mean (ann.)  30.11%\n",
            "Monthly Vol (ann.)   -\n",
            "Monthly Skew         -\n",
            "Monthly Kurt         -\n",
            "Best Month           2.51%\n",
            "Worst Month          2.51%\n",
            "\n",
            "Yearly Sharpe        -\n",
            "Yearly Sortino       -\n",
            "Yearly Mean          -\n",
            "Yearly Vol           -\n",
            "Yearly Skew          -\n",
            "Yearly Kurt          -\n",
            "Best Year            -\n",
            "Worst Year           -\n",
            "\n",
            "Avg. Drawdown        -1.40%\n",
            "Avg. Drawdown Days   2.00\n",
            "Avg. Up Month        2.51%\n",
            "Avg. Down Month      -\n",
            "Win Year %           -\n",
            "Win 12m %            -\n"
          ],
          "name": "stdout"
        }
      ]
    },
    {
      "cell_type": "markdown",
      "metadata": {
        "id": "vnleZqRluzv8"
      },
      "source": [
        "#5. Estratégia de Cruzamente de Médias"
      ]
    },
    {
      "cell_type": "code",
      "metadata": {
        "id": "TxyFffaruejl"
      },
      "source": [
        "mm50 = pd.DataFrame()\n",
        "mmm200 = pd.DataFrame()\n",
        "\n",
        "mm50 = bta.sma(btc_close.sinal, period=50).df\n",
        "mm200 = bta.sma(btc_close.sinal, period=200).df\n",
        "\n",
        "mm50['sinal'] = mm50\n",
        "mm200['sinal'] =mm200"
      ],
      "execution_count": null,
      "outputs": []
    },
    {
      "cell_type": "code",
      "metadata": {
        "colab": {
          "base_uri": "https://localhost:8080/",
          "height": 450
        },
        "id": "GcPRPhsdvNbB",
        "outputId": "5ed5ba9e-a2d8-468d-eec0-55835456fe1e"
      },
      "source": [
        "mm200"
      ],
      "execution_count": null,
      "outputs": [
        {
          "output_type": "execute_result",
          "data": {
            "text/html": [
              "<div>\n",
              "<style scoped>\n",
              "    .dataframe tbody tr th:only-of-type {\n",
              "        vertical-align: middle;\n",
              "    }\n",
              "\n",
              "    .dataframe tbody tr th {\n",
              "        vertical-align: top;\n",
              "    }\n",
              "\n",
              "    .dataframe thead th {\n",
              "        text-align: right;\n",
              "    }\n",
              "</style>\n",
              "<table border=\"1\" class=\"dataframe\">\n",
              "  <thead>\n",
              "    <tr style=\"text-align: right;\">\n",
              "      <th></th>\n",
              "      <th>sma</th>\n",
              "      <th>sinal</th>\n",
              "    </tr>\n",
              "    <tr>\n",
              "      <th>date</th>\n",
              "      <th></th>\n",
              "      <th></th>\n",
              "    </tr>\n",
              "  </thead>\n",
              "  <tbody>\n",
              "    <tr>\n",
              "      <th>2021-03-27 14:15:00</th>\n",
              "      <td>NaN</td>\n",
              "      <td>NaN</td>\n",
              "    </tr>\n",
              "    <tr>\n",
              "      <th>2021-03-27 14:30:00</th>\n",
              "      <td>NaN</td>\n",
              "      <td>NaN</td>\n",
              "    </tr>\n",
              "    <tr>\n",
              "      <th>2021-03-27 14:45:00</th>\n",
              "      <td>NaN</td>\n",
              "      <td>NaN</td>\n",
              "    </tr>\n",
              "    <tr>\n",
              "      <th>2021-03-27 15:00:00</th>\n",
              "      <td>NaN</td>\n",
              "      <td>NaN</td>\n",
              "    </tr>\n",
              "    <tr>\n",
              "      <th>2021-03-27 15:15:00</th>\n",
              "      <td>NaN</td>\n",
              "      <td>NaN</td>\n",
              "    </tr>\n",
              "    <tr>\n",
              "      <th>...</th>\n",
              "      <td>...</td>\n",
              "      <td>...</td>\n",
              "    </tr>\n",
              "    <tr>\n",
              "      <th>2021-04-06 23:00:00</th>\n",
              "      <td>334242.645</td>\n",
              "      <td>334242.645</td>\n",
              "    </tr>\n",
              "    <tr>\n",
              "      <th>2021-04-06 23:15:00</th>\n",
              "      <td>334202.585</td>\n",
              "      <td>334202.585</td>\n",
              "    </tr>\n",
              "    <tr>\n",
              "      <th>2021-04-06 23:30:00</th>\n",
              "      <td>334158.640</td>\n",
              "      <td>334158.640</td>\n",
              "    </tr>\n",
              "    <tr>\n",
              "      <th>2021-04-06 23:45:00</th>\n",
              "      <td>334115.720</td>\n",
              "      <td>334115.720</td>\n",
              "    </tr>\n",
              "    <tr>\n",
              "      <th>2021-04-07 00:00:00</th>\n",
              "      <td>334082.445</td>\n",
              "      <td>334082.445</td>\n",
              "    </tr>\n",
              "  </tbody>\n",
              "</table>\n",
              "<p>1000 rows × 2 columns</p>\n",
              "</div>"
            ],
            "text/plain": [
              "                            sma       sinal\n",
              "date                                       \n",
              "2021-03-27 14:15:00         NaN         NaN\n",
              "2021-03-27 14:30:00         NaN         NaN\n",
              "2021-03-27 14:45:00         NaN         NaN\n",
              "2021-03-27 15:00:00         NaN         NaN\n",
              "2021-03-27 15:15:00         NaN         NaN\n",
              "...                         ...         ...\n",
              "2021-04-06 23:00:00  334242.645  334242.645\n",
              "2021-04-06 23:15:00  334202.585  334202.585\n",
              "2021-04-06 23:30:00  334158.640  334158.640\n",
              "2021-04-06 23:45:00  334115.720  334115.720\n",
              "2021-04-07 00:00:00  334082.445  334082.445\n",
              "\n",
              "[1000 rows x 2 columns]"
            ]
          },
          "metadata": {
            "tags": []
          },
          "execution_count": 25
        }
      ]
    },
    {
      "cell_type": "code",
      "metadata": {
        "id": "x6B6rHUivOa4"
      },
      "source": [
        "posicao_2 = btc_up.copy()"
      ],
      "execution_count": null,
      "outputs": []
    },
    {
      "cell_type": "code",
      "metadata": {
        "id": "1xz80McRvV4P"
      },
      "source": [
        "posicao_2['sinal'] =0"
      ],
      "execution_count": null,
      "outputs": []
    },
    {
      "cell_type": "code",
      "metadata": {
        "colab": {
          "base_uri": "https://localhost:8080/",
          "height": 450
        },
        "id": "xgNXA-0ZvY3Y",
        "outputId": "6c39e87b-98fe-4c67-b74e-7471541a8660"
      },
      "source": [
        "posicao_2[mm50 > mm200] = 1.0\n",
        "posicao_2[mm50 <=mm200] = -1.0\n",
        "posicao_2.fillna(0)"
      ],
      "execution_count": null,
      "outputs": [
        {
          "output_type": "execute_result",
          "data": {
            "text/html": [
              "<div>\n",
              "<style scoped>\n",
              "    .dataframe tbody tr th:only-of-type {\n",
              "        vertical-align: middle;\n",
              "    }\n",
              "\n",
              "    .dataframe tbody tr th {\n",
              "        vertical-align: top;\n",
              "    }\n",
              "\n",
              "    .dataframe thead th {\n",
              "        text-align: right;\n",
              "    }\n",
              "</style>\n",
              "<table border=\"1\" class=\"dataframe\">\n",
              "  <thead>\n",
              "    <tr style=\"text-align: right;\">\n",
              "      <th></th>\n",
              "      <th>sinal</th>\n",
              "    </tr>\n",
              "    <tr>\n",
              "      <th>date</th>\n",
              "      <th></th>\n",
              "    </tr>\n",
              "  </thead>\n",
              "  <tbody>\n",
              "    <tr>\n",
              "      <th>2021-03-27 14:15:00</th>\n",
              "      <td>0</td>\n",
              "    </tr>\n",
              "    <tr>\n",
              "      <th>2021-03-27 14:30:00</th>\n",
              "      <td>0</td>\n",
              "    </tr>\n",
              "    <tr>\n",
              "      <th>2021-03-27 14:45:00</th>\n",
              "      <td>0</td>\n",
              "    </tr>\n",
              "    <tr>\n",
              "      <th>2021-03-27 15:00:00</th>\n",
              "      <td>0</td>\n",
              "    </tr>\n",
              "    <tr>\n",
              "      <th>2021-03-27 15:15:00</th>\n",
              "      <td>0</td>\n",
              "    </tr>\n",
              "    <tr>\n",
              "      <th>...</th>\n",
              "      <td>...</td>\n",
              "    </tr>\n",
              "    <tr>\n",
              "      <th>2021-04-06 23:00:00</th>\n",
              "      <td>-1</td>\n",
              "    </tr>\n",
              "    <tr>\n",
              "      <th>2021-04-06 23:15:00</th>\n",
              "      <td>-1</td>\n",
              "    </tr>\n",
              "    <tr>\n",
              "      <th>2021-04-06 23:30:00</th>\n",
              "      <td>-1</td>\n",
              "    </tr>\n",
              "    <tr>\n",
              "      <th>2021-04-06 23:45:00</th>\n",
              "      <td>-1</td>\n",
              "    </tr>\n",
              "    <tr>\n",
              "      <th>2021-04-07 00:00:00</th>\n",
              "      <td>-1</td>\n",
              "    </tr>\n",
              "  </tbody>\n",
              "</table>\n",
              "<p>1000 rows × 1 columns</p>\n",
              "</div>"
            ],
            "text/plain": [
              "                     sinal\n",
              "date                      \n",
              "2021-03-27 14:15:00      0\n",
              "2021-03-27 14:30:00      0\n",
              "2021-03-27 14:45:00      0\n",
              "2021-03-27 15:00:00      0\n",
              "2021-03-27 15:15:00      0\n",
              "...                    ...\n",
              "2021-04-06 23:00:00     -1\n",
              "2021-04-06 23:15:00     -1\n",
              "2021-04-06 23:30:00     -1\n",
              "2021-04-06 23:45:00     -1\n",
              "2021-04-07 00:00:00     -1\n",
              "\n",
              "[1000 rows x 1 columns]"
            ]
          },
          "metadata": {
            "tags": []
          },
          "execution_count": 28
        }
      ]
    },
    {
      "cell_type": "code",
      "metadata": {
        "id": "Y-rLGAdFvjPR"
      },
      "source": [
        "mmovel = bt.Strategy('mmovel', [bt.algos.WeighTarget(posicao_2),\n",
        "                                bt.algos.Rebalance()])\n"
      ],
      "execution_count": null,
      "outputs": []
    },
    {
      "cell_type": "code",
      "metadata": {
        "id": "O7ONi5sSvtv3"
      },
      "source": [
        "teste_2 = bt.Backtest(mmovel, btc_close)"
      ],
      "execution_count": null,
      "outputs": []
    },
    {
      "cell_type": "code",
      "metadata": {
        "colab": {
          "base_uri": "https://localhost:8080/"
        },
        "id": "5cp5VnD1vyDh",
        "outputId": "63a7a117-829d-4e24-cf06-b6aa24fd1368"
      },
      "source": [
        "resultado2 = bt.run(teste_2)\n",
        "resultado2.display()"
      ],
      "execution_count": null,
      "outputs": [
        {
          "output_type": "stream",
          "text": [
            "Stat                 mmovel\n",
            "-------------------  ----------\n",
            "Start                2021-03-26\n",
            "End                  2021-04-07\n",
            "Risk-free rate       0.00%\n",
            "\n",
            "Total Return         -2.36%\n",
            "Daily Sharpe         -2.77\n",
            "Daily Sortino        -4.26\n",
            "CAGR                 -51.67%\n",
            "Max Drawdown         -4.22%\n",
            "Calmar Ratio         -12.25\n",
            "\n",
            "MTD                  -4.20%\n",
            "3m                   -\n",
            "6m                   -\n",
            "YTD                  -2.36%\n",
            "1Y                   -\n",
            "3Y (ann.)            -\n",
            "5Y (ann.)            -\n",
            "10Y (ann.)           -\n",
            "Since Incep. (ann.)  -51.67%\n",
            "\n",
            "Daily Sharpe         -2.77\n",
            "Daily Sortino        -4.26\n",
            "Daily Mean (ann.)    -48.69%\n",
            "Daily Vol (ann.)     17.59%\n",
            "Daily Skew           0.33\n",
            "Daily Kurt           0.30\n",
            "Best Day             2.02%\n",
            "Worst Day            -1.80%\n",
            "\n",
            "Monthly Sharpe       -\n",
            "Monthly Sortino      -\n",
            "Monthly Mean (ann.)  -50.40%\n",
            "Monthly Vol (ann.)   -\n",
            "Monthly Skew         -\n",
            "Monthly Kurt         -\n",
            "Best Month           -4.20%\n",
            "Worst Month          -4.20%\n",
            "\n",
            "Yearly Sharpe        -\n",
            "Yearly Sortino       -\n",
            "Yearly Mean          -\n",
            "Yearly Vol           -\n",
            "Yearly Skew          -\n",
            "Yearly Kurt          -\n",
            "Best Year            -\n",
            "Worst Year           -\n",
            "\n",
            "Avg. Drawdown        -2.15%\n",
            "Avg. Drawdown Days   4.00\n",
            "Avg. Up Month        -\n",
            "Avg. Down Month      -4.20%\n",
            "Win Year %           -\n",
            "Win 12m %            -\n"
          ],
          "name": "stdout"
        }
      ]
    },
    {
      "cell_type": "code",
      "metadata": {
        "colab": {
          "base_uri": "https://localhost:8080/"
        },
        "id": "uWts6ij2xjkh",
        "outputId": "27c7e863-2b92-416c-be25-e5ed7f25ca77"
      },
      "source": [
        "benchmark = bt.Strategy('benchmark', [bt.algos.RunYearly(),\n",
        "                                      bt.algos.SelectAll(),\n",
        "                                      bt.algos.WeighEqually(),\n",
        "                                      bt.algos.Rebalance()])\n",
        "\n",
        "benchmark_teste = bt.Backtest(benchmark, btc_close)\n",
        "b_resultado = bt.run(teste_2,benchmark_teste)\n",
        "b_resultado.display()"
      ],
      "execution_count": null,
      "outputs": [
        {
          "output_type": "stream",
          "text": [
            "Stat                 mmovel      benchmark\n",
            "-------------------  ----------  -----------\n",
            "Start                2021-03-26  2021-03-26\n",
            "End                  2021-04-07  2021-04-07\n",
            "Risk-free rate       0.00%       0.00%\n",
            "\n",
            "Total Return         -2.36%      4.04%\n",
            "Daily Sharpe         -2.77       3.17\n",
            "Daily Sortino        -4.26       6.10\n",
            "CAGR                 -51.67%     233.85%\n",
            "Max Drawdown         -4.22%      -3.08%\n",
            "Calmar Ratio         -12.25      76.03\n",
            "\n",
            "MTD                  -4.20%      -1.50%\n",
            "3m                   -           -\n",
            "6m                   -           -\n",
            "YTD                  -2.36%      4.04%\n",
            "1Y                   -           -\n",
            "3Y (ann.)            -           -\n",
            "5Y (ann.)            -           -\n",
            "10Y (ann.)           -           -\n",
            "Since Incep. (ann.)  -51.67%     233.85%\n",
            "\n",
            "Daily Sharpe         -2.77       3.17\n",
            "Daily Sortino        -4.26       6.10\n",
            "Daily Mean (ann.)    -48.69%     86.73%\n",
            "Daily Vol (ann.)     17.59%      27.34%\n",
            "Daily Skew           0.33        -0.01\n",
            "Daily Kurt           0.30        -0.35\n",
            "Best Day             2.02%       3.46%\n",
            "Worst Day            -1.80%      -2.48%\n",
            "\n",
            "Monthly Sharpe       -           -\n",
            "Monthly Sortino      -           -\n",
            "Monthly Mean (ann.)  -50.40%     -18.06%\n",
            "Monthly Vol (ann.)   -           -\n",
            "Monthly Skew         -           -\n",
            "Monthly Kurt         -           -\n",
            "Best Month           -4.20%      -1.50%\n",
            "Worst Month          -4.20%      -1.50%\n",
            "\n",
            "Yearly Sharpe        -           -\n",
            "Yearly Sortino       -           -\n",
            "Yearly Mean          -           -\n",
            "Yearly Vol           -           -\n",
            "Yearly Skew          -           -\n",
            "Yearly Kurt          -           -\n",
            "Best Year            -           -\n",
            "Worst Year           -           -\n",
            "\n",
            "Avg. Drawdown        -2.15%      -1.57%\n",
            "Avg. Drawdown Days   4.00        2.33\n",
            "Avg. Up Month        -           -\n",
            "Avg. Down Month      -4.20%      -1.50%\n",
            "Win Year %           -           -\n",
            "Win 12m %            -           -\n"
          ],
          "name": "stdout"
        }
      ]
    },
    {
      "cell_type": "markdown",
      "metadata": {
        "id": "nON5tJY8wKQk"
      },
      "source": [
        "#6. Estratégia de alocação"
      ]
    },
    {
      "cell_type": "code",
      "metadata": {
        "id": "UEM7vcYBv7_x"
      },
      "source": [
        "cripto = pd.merge(btc_close, eth_df['close'], how='inner', left_index=True, right_index=True)"
      ],
      "execution_count": null,
      "outputs": []
    },
    {
      "cell_type": "code",
      "metadata": {
        "colab": {
          "base_uri": "https://localhost:8080/",
          "height": 450
        },
        "id": "BAhUGLf3wpmU",
        "outputId": "4c095090-daf9-4f0e-d55e-55e353216593"
      },
      "source": [
        "cripto"
      ],
      "execution_count": null,
      "outputs": [
        {
          "output_type": "execute_result",
          "data": {
            "text/html": [
              "<div>\n",
              "<style scoped>\n",
              "    .dataframe tbody tr th:only-of-type {\n",
              "        vertical-align: middle;\n",
              "    }\n",
              "\n",
              "    .dataframe tbody tr th {\n",
              "        vertical-align: top;\n",
              "    }\n",
              "\n",
              "    .dataframe thead th {\n",
              "        text-align: right;\n",
              "    }\n",
              "</style>\n",
              "<table border=\"1\" class=\"dataframe\">\n",
              "  <thead>\n",
              "    <tr style=\"text-align: right;\">\n",
              "      <th></th>\n",
              "      <th>sinal</th>\n",
              "      <th>close</th>\n",
              "    </tr>\n",
              "    <tr>\n",
              "      <th>date</th>\n",
              "      <th></th>\n",
              "      <th></th>\n",
              "    </tr>\n",
              "  </thead>\n",
              "  <tbody>\n",
              "    <tr>\n",
              "      <th>2021-03-27 14:15:00</th>\n",
              "      <td>315659.0</td>\n",
              "      <td>9721.19</td>\n",
              "    </tr>\n",
              "    <tr>\n",
              "      <th>2021-03-27 14:30:00</th>\n",
              "      <td>316223.0</td>\n",
              "      <td>9733.60</td>\n",
              "    </tr>\n",
              "    <tr>\n",
              "      <th>2021-03-27 14:45:00</th>\n",
              "      <td>316500.0</td>\n",
              "      <td>9745.21</td>\n",
              "    </tr>\n",
              "    <tr>\n",
              "      <th>2021-03-27 15:00:00</th>\n",
              "      <td>317142.0</td>\n",
              "      <td>9759.39</td>\n",
              "    </tr>\n",
              "    <tr>\n",
              "      <th>2021-03-27 15:15:00</th>\n",
              "      <td>317974.0</td>\n",
              "      <td>9767.33</td>\n",
              "    </tr>\n",
              "    <tr>\n",
              "      <th>...</th>\n",
              "      <td>...</td>\n",
              "      <td>...</td>\n",
              "    </tr>\n",
              "    <tr>\n",
              "      <th>2021-04-06 23:00:00</th>\n",
              "      <td>329238.0</td>\n",
              "      <td>12011.07</td>\n",
              "    </tr>\n",
              "    <tr>\n",
              "      <th>2021-04-06 23:15:00</th>\n",
              "      <td>328836.0</td>\n",
              "      <td>12002.38</td>\n",
              "    </tr>\n",
              "    <tr>\n",
              "      <th>2021-04-06 23:30:00</th>\n",
              "      <td>328169.0</td>\n",
              "      <td>11968.32</td>\n",
              "    </tr>\n",
              "    <tr>\n",
              "      <th>2021-04-06 23:45:00</th>\n",
              "      <td>328657.0</td>\n",
              "      <td>11969.50</td>\n",
              "    </tr>\n",
              "    <tr>\n",
              "      <th>2021-04-07 00:00:00</th>\n",
              "      <td>329126.0</td>\n",
              "      <td>12016.93</td>\n",
              "    </tr>\n",
              "  </tbody>\n",
              "</table>\n",
              "<p>1000 rows × 2 columns</p>\n",
              "</div>"
            ],
            "text/plain": [
              "                        sinal     close\n",
              "date                                   \n",
              "2021-03-27 14:15:00  315659.0   9721.19\n",
              "2021-03-27 14:30:00  316223.0   9733.60\n",
              "2021-03-27 14:45:00  316500.0   9745.21\n",
              "2021-03-27 15:00:00  317142.0   9759.39\n",
              "2021-03-27 15:15:00  317974.0   9767.33\n",
              "...                       ...       ...\n",
              "2021-04-06 23:00:00  329238.0  12011.07\n",
              "2021-04-06 23:15:00  328836.0  12002.38\n",
              "2021-04-06 23:30:00  328169.0  11968.32\n",
              "2021-04-06 23:45:00  328657.0  11969.50\n",
              "2021-04-07 00:00:00  329126.0  12016.93\n",
              "\n",
              "[1000 rows x 2 columns]"
            ]
          },
          "metadata": {
            "tags": []
          },
          "execution_count": 34
        }
      ]
    },
    {
      "cell_type": "code",
      "metadata": {
        "id": "8t2gixOiwqYu"
      },
      "source": [
        "alocacao = bt.Strategy('alocacao', [bt.algos.RunWeekly(),\n",
        "                                    bt.algos.SelectAll(),\n",
        "                                    bt.algos.WeighEqually(),\n",
        "                                    bt.algos.Rebalance()])"
      ],
      "execution_count": null,
      "outputs": []
    },
    {
      "cell_type": "code",
      "metadata": {
        "colab": {
          "base_uri": "https://localhost:8080/"
        },
        "id": "V8LrH34KxGpJ",
        "outputId": "59cf53ba-2e95-4f9b-bf87-58767e51d8bb"
      },
      "source": [
        "teste_3 = bt.Backtest(alocacao, cripto)\n",
        "resultado_3 = bt.run(teste_3)\n",
        "resultado_3.display()"
      ],
      "execution_count": null,
      "outputs": [
        {
          "output_type": "stream",
          "text": [
            "Stat                 alocacao\n",
            "-------------------  ----------\n",
            "Start                2021-03-26\n",
            "End                  2021-04-07\n",
            "Risk-free rate       0.00%\n",
            "\n",
            "Total Return         13.04%\n",
            "Daily Sharpe         7.21\n",
            "Daily Sortino        17.82\n",
            "CAGR                 4074.45%\n",
            "Max Drawdown         -3.16%\n",
            "Calmar Ratio         1288.81\n",
            "\n",
            "MTD                  4.69%\n",
            "3m                   -\n",
            "6m                   -\n",
            "YTD                  13.04%\n",
            "1Y                   -\n",
            "3Y (ann.)            -\n",
            "5Y (ann.)            -\n",
            "10Y (ann.)           -\n",
            "Since Incep. (ann.)  4074.45%\n",
            "\n",
            "Daily Sharpe         7.21\n",
            "Daily Sortino        17.82\n",
            "Daily Mean (ann.)    264.88%\n",
            "Daily Vol (ann.)     36.73%\n",
            "Daily Skew           0.16\n",
            "Daily Kurt           0.18\n",
            "Best Day             5.14%\n",
            "Worst Day            -3.16%\n",
            "\n",
            "Monthly Sharpe       -\n",
            "Monthly Sortino      -\n",
            "Monthly Mean (ann.)  56.33%\n",
            "Monthly Vol (ann.)   -\n",
            "Monthly Skew         -\n",
            "Monthly Kurt         -\n",
            "Best Month           4.69%\n",
            "Worst Month          4.69%\n",
            "\n",
            "Yearly Sharpe        -\n",
            "Yearly Sortino       -\n",
            "Yearly Mean          -\n",
            "Yearly Vol           -\n",
            "Yearly Skew          -\n",
            "Yearly Kurt          -\n",
            "Best Year            -\n",
            "Worst Year           -\n",
            "\n",
            "Avg. Drawdown        -2.02%\n",
            "Avg. Drawdown Days   2.50\n",
            "Avg. Up Month        4.69%\n",
            "Avg. Down Month      -\n",
            "Win Year %           -\n",
            "Win 12m %            -\n"
          ],
          "name": "stdout"
        }
      ]
    },
    {
      "cell_type": "code",
      "metadata": {
        "id": "O_fa9b3vxP7y"
      },
      "source": [],
      "execution_count": null,
      "outputs": []
    }
  ]
}